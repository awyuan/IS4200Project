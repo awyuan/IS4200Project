{
 "cells": [
  {
   "cell_type": "markdown",
   "id": "4a538cc0",
   "metadata": {},
   "source": [
    "Todos: \n",
    "- Encoding: use VSM* to convert text from pdfs into vectors (unanswered: how much of the document can we feed before word2vec explodes?) *-- realized word2vec isn't what you use for document to vector, it'd need to be a vector space model \n",
    "- Models: use a SOTA transformer model? (unanswered: do we need to fine tune or can we use a previously created model as is? If fine tuning, what is our training set / testing set and do we have enough data?)\n",
    "- Search/Ranking: Not that difficult once the model can produce predictions (use softmax/logit scores as relevancy score, can naively search pdf for location of citation)"
   ]
  },
  {
   "cell_type": "code",
   "execution_count": null,
   "id": "4a25404b",
   "metadata": {},
   "outputs": [],
   "source": []
  }
 ],
 "metadata": {
  "kernelspec": {
   "display_name": "Python 3",
   "language": "python",
   "name": "python3"
  },
  "language_info": {
   "codemirror_mode": {
    "name": "ipython",
    "version": 3
   },
   "file_extension": ".py",
   "mimetype": "text/x-python",
   "name": "python",
   "nbconvert_exporter": "python",
   "pygments_lexer": "ipython3",
   "version": "3.7.4"
  },
  "vscode": {
   "interpreter": {
    "hash": "06857816d295f49859cc9b744cb5307f357aa28072ae1f3fa176dda7f6176408"
   }
  }
 },
 "nbformat": 4,
 "nbformat_minor": 5
}
